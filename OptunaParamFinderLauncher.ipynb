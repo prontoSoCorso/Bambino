{
 "cells": [
  {
   "cell_type": "markdown",
   "id": "0a8efc6d-e33a-412d-a8d2-229e541efbbf",
   "metadata": {},
   "source": [
    "# Setting"
   ]
  },
  {
   "cell_type": "code",
   "execution_count": 1,
   "id": "96c67b22-ef48-44d8-bf46-b704efebe43b",
   "metadata": {},
   "outputs": [
    {
     "name": "stdout",
     "output_type": "stream",
     "text": [
      "Requirement already satisfied: optuna in /home/ec2-user/anaconda3/envs/pytorch_p310/lib/python3.10/site-packages (4.2.1)\n",
      "Requirement already satisfied: alembic>=1.5.0 in /home/ec2-user/anaconda3/envs/pytorch_p310/lib/python3.10/site-packages (from optuna) (1.15.1)\n",
      "Requirement already satisfied: colorlog in /home/ec2-user/anaconda3/envs/pytorch_p310/lib/python3.10/site-packages (from optuna) (6.9.0)\n",
      "Requirement already satisfied: numpy in /home/ec2-user/anaconda3/envs/pytorch_p310/lib/python3.10/site-packages (from optuna) (1.26.4)\n",
      "Requirement already satisfied: packaging>=20.0 in /home/ec2-user/anaconda3/envs/pytorch_p310/lib/python3.10/site-packages (from optuna) (21.3)\n",
      "Requirement already satisfied: sqlalchemy>=1.4.2 in /home/ec2-user/anaconda3/envs/pytorch_p310/lib/python3.10/site-packages (from optuna) (2.0.38)\n",
      "Requirement already satisfied: tqdm in /home/ec2-user/anaconda3/envs/pytorch_p310/lib/python3.10/site-packages (from optuna) (4.67.1)\n",
      "Requirement already satisfied: PyYAML in /home/ec2-user/anaconda3/envs/pytorch_p310/lib/python3.10/site-packages (from optuna) (6.0.2)\n",
      "Requirement already satisfied: Mako in /home/ec2-user/anaconda3/envs/pytorch_p310/lib/python3.10/site-packages (from alembic>=1.5.0->optuna) (1.3.9)\n",
      "Requirement already satisfied: typing-extensions>=4.12 in /home/ec2-user/anaconda3/envs/pytorch_p310/lib/python3.10/site-packages (from alembic>=1.5.0->optuna) (4.12.2)\n",
      "Requirement already satisfied: pyparsing!=3.0.5,>=2.0.2 in /home/ec2-user/anaconda3/envs/pytorch_p310/lib/python3.10/site-packages (from packaging>=20.0->optuna) (3.2.1)\n",
      "Requirement already satisfied: greenlet!=0.4.17 in /home/ec2-user/anaconda3/envs/pytorch_p310/lib/python3.10/site-packages (from sqlalchemy>=1.4.2->optuna) (3.1.1)\n",
      "Requirement already satisfied: MarkupSafe>=0.9.2 in /home/ec2-user/anaconda3/envs/pytorch_p310/lib/python3.10/site-packages (from Mako->alembic>=1.5.0->optuna) (3.0.2)\n",
      "Requirement already satisfied: torcheval in /home/ec2-user/anaconda3/envs/pytorch_p310/lib/python3.10/site-packages (0.0.7)\n",
      "Requirement already satisfied: typing-extensions in /home/ec2-user/anaconda3/envs/pytorch_p310/lib/python3.10/site-packages (from torcheval) (4.12.2)\n",
      "Requirement already satisfied: ipdb in /home/ec2-user/anaconda3/envs/pytorch_p310/lib/python3.10/site-packages (0.13.13)\n",
      "Requirement already satisfied: ipython>=7.31.1 in /home/ec2-user/anaconda3/envs/pytorch_p310/lib/python3.10/site-packages (from ipdb) (8.32.0)\n",
      "Requirement already satisfied: tomli in /home/ec2-user/anaconda3/envs/pytorch_p310/lib/python3.10/site-packages (from ipdb) (2.2.1)\n",
      "Requirement already satisfied: decorator in /home/ec2-user/anaconda3/envs/pytorch_p310/lib/python3.10/site-packages (from ipdb) (5.1.1)\n",
      "Requirement already satisfied: exceptiongroup in /home/ec2-user/anaconda3/envs/pytorch_p310/lib/python3.10/site-packages (from ipython>=7.31.1->ipdb) (1.2.2)\n",
      "Requirement already satisfied: jedi>=0.16 in /home/ec2-user/anaconda3/envs/pytorch_p310/lib/python3.10/site-packages (from ipython>=7.31.1->ipdb) (0.19.2)\n",
      "Requirement already satisfied: matplotlib-inline in /home/ec2-user/anaconda3/envs/pytorch_p310/lib/python3.10/site-packages (from ipython>=7.31.1->ipdb) (0.1.7)\n",
      "Requirement already satisfied: pexpect>4.3 in /home/ec2-user/anaconda3/envs/pytorch_p310/lib/python3.10/site-packages (from ipython>=7.31.1->ipdb) (4.9.0)\n",
      "Requirement already satisfied: prompt_toolkit<3.1.0,>=3.0.41 in /home/ec2-user/anaconda3/envs/pytorch_p310/lib/python3.10/site-packages (from ipython>=7.31.1->ipdb) (3.0.50)\n",
      "Requirement already satisfied: pygments>=2.4.0 in /home/ec2-user/anaconda3/envs/pytorch_p310/lib/python3.10/site-packages (from ipython>=7.31.1->ipdb) (2.19.1)\n",
      "Requirement already satisfied: stack_data in /home/ec2-user/anaconda3/envs/pytorch_p310/lib/python3.10/site-packages (from ipython>=7.31.1->ipdb) (0.6.3)\n",
      "Requirement already satisfied: traitlets>=5.13.0 in /home/ec2-user/anaconda3/envs/pytorch_p310/lib/python3.10/site-packages (from ipython>=7.31.1->ipdb) (5.14.3)\n",
      "Requirement already satisfied: typing_extensions>=4.6 in /home/ec2-user/anaconda3/envs/pytorch_p310/lib/python3.10/site-packages (from ipython>=7.31.1->ipdb) (4.12.2)\n",
      "Requirement already satisfied: parso<0.9.0,>=0.8.4 in /home/ec2-user/anaconda3/envs/pytorch_p310/lib/python3.10/site-packages (from jedi>=0.16->ipython>=7.31.1->ipdb) (0.8.4)\n",
      "Requirement already satisfied: ptyprocess>=0.5 in /home/ec2-user/anaconda3/envs/pytorch_p310/lib/python3.10/site-packages (from pexpect>4.3->ipython>=7.31.1->ipdb) (0.7.0)\n",
      "Requirement already satisfied: wcwidth in /home/ec2-user/anaconda3/envs/pytorch_p310/lib/python3.10/site-packages (from prompt_toolkit<3.1.0,>=3.0.41->ipython>=7.31.1->ipdb) (0.2.13)\n",
      "Requirement already satisfied: executing>=1.2.0 in /home/ec2-user/anaconda3/envs/pytorch_p310/lib/python3.10/site-packages (from stack_data->ipython>=7.31.1->ipdb) (2.1.0)\n",
      "Requirement already satisfied: asttokens>=2.1.0 in /home/ec2-user/anaconda3/envs/pytorch_p310/lib/python3.10/site-packages (from stack_data->ipython>=7.31.1->ipdb) (3.0.0)\n",
      "Requirement already satisfied: pure_eval in /home/ec2-user/anaconda3/envs/pytorch_p310/lib/python3.10/site-packages (from stack_data->ipython>=7.31.1->ipdb) (0.2.3)\n",
      "Requirement already satisfied: kaleido in /home/ec2-user/anaconda3/envs/pytorch_p310/lib/python3.10/site-packages (0.2.1)\n"
     ]
    }
   ],
   "source": [
    "# Install packages\n",
    "!pip install optuna\n",
    "!pip install torcheval\n",
    "!pip install ipdb\n",
    "!pip install -U kaleido\n",
    "\n",
    "# Import classes\n",
    "from TrainUtils.OptunaParamFinder import OptunaParamFinder\n",
    "from Types.NetType import NetType\n",
    "from Types.TaskType import TaskType\n",
    "from DataUtils.OpenFaceDataset import OpenFaceDataset\n",
    "from DataUtils.BoaOpenFaceDataset import BoaOpenFaceDataset\n",
    "\n",
    "# Initialize the file system\n",
    "import s3fs\n",
    "s3 = s3fs.S3FileSystem()"
   ]
  },
  {
   "cell_type": "markdown",
   "id": "938811af-65cf-4b78-ab97-81ab7bcafec6",
   "metadata": {},
   "source": [
    "# Initialize data"
   ]
  },
  {
   "cell_type": "code",
   "execution_count": 2,
   "id": "5e54c106-8459-4422-a0e3-72175f86abb3",
   "metadata": {},
   "outputs": [],
   "source": [
    "# Define variables\n",
    "working_dir1 = \"s3://bambino-dev-resources/\"\n",
    "task_type1 = TaskType.TRIAL\n",
    "\n",
    "# Load data\n",
    "train_data1 = OpenFaceDataset.load_dataset(working_dir=working_dir1, dataset_name=\"training_set\", task_type=task_type1, is_boa=True, s3=s3)\n",
    "val_data1 = OpenFaceDataset.load_dataset(working_dir=working_dir1, dataset_name=\"validation_set\", task_type=task_type1, is_boa=True, s3=s3)\n",
    "test_data1 = OpenFaceDataset.load_dataset(working_dir=working_dir1, dataset_name=\"test_set\", task_type=task_type1, is_boa=True, s3=s3)"
   ]
  },
  {
   "cell_type": "markdown",
   "id": "bf160e7e-0c26-4deb-8604-ca9d3ddaa177",
   "metadata": {},
   "source": [
    "# Optimize parameters"
   ]
  },
  {
   "cell_type": "code",
   "execution_count": null,
   "id": "57e7046b-547a-4e0c-affb-1f975916688f",
   "metadata": {},
   "outputs": [
    {
     "name": "stderr",
     "output_type": "stream",
     "text": [
      "[I 2025-03-10 14:42:14,359] A new study created in memory with name: no-name-cb29cb16-3437-4fce-ab95-e098e0c80374\n"
     ]
    },
    {
     "name": "stdout",
     "output_type": "stream",
     "text": [
      "-------------------------------------------------------------------------------------------------------\n",
      "Trial ID: 0\n",
      "Parameters: {'n_conv_neurons': 1024, 'n_conv_layers': 3, 'kernel_size': 3, 'hidden_dim': 128, 'p_drop': 0.4, 'n_extra_fc_after_conv': 3, 'n_extra_fc_final': 1, 'optimizer': 'Adam', 'lr': 0.0001, 'batch_size': 32}\n"
     ]
    }
   ],
   "source": [
    "# Define variables\n",
    "model_name1 = \"stimulus_conv2d_optuna\"\n",
    "net_type1 = NetType.CONV2D\n",
    "epochs1 = 200\n",
    "use_cuda1 = True\n",
    "batch_size1 = None\n",
    "val_epochs1 = 10\n",
    "separated_inputs1 = True\n",
    "is_boa1 = True\n",
    "\n",
    "# Define Optuna model\n",
    "n_trials1 = 5\n",
    "output_metric1 = \"mcc\"\n",
    "double_output1 = False\n",
    "optuna1 = OptunaParamFinder(model_name=model_name1, working_dir=working_dir1, task_type=task_type1,\n",
    "                            net_type=net_type1, epochs=epochs1, batch_size=batch_size1,\n",
    "                            val_epochs=val_epochs1, n_trials=n_trials1, separated_inputs=separated_inputs1,\n",
    "                            output_metric=output_metric1, double_output=double_output1, is_boa=is_boa1, \n",
    "                            use_cuda=use_cuda1, train_data=train_data1, val_data=val_data1, test_data=test_data1, s3=s3)\n",
    "\n",
    "# Run search\n",
    "optuna1.initialize_study()\n",
    "\n",
    "# Evaluate study\n",
    "print()\n",
    "optuna1.analyze_study()"
   ]
  }
 ],
 "metadata": {
  "kernelspec": {
   "display_name": "conda_pytorch_p310",
   "language": "python",
   "name": "conda_pytorch_p310"
  },
  "language_info": {
   "codemirror_mode": {
    "name": "ipython",
    "version": 3
   },
   "file_extension": ".py",
   "mimetype": "text/x-python",
   "name": "python",
   "nbconvert_exporter": "python",
   "pygments_lexer": "ipython3",
   "version": "3.10.14"
  }
 },
 "nbformat": 4,
 "nbformat_minor": 5
}
