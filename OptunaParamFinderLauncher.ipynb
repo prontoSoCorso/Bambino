{
 "cells": [
  {
   "cell_type": "markdown",
   "id": "0a8efc6d-e33a-412d-a8d2-229e541efbbf",
   "metadata": {},
   "source": [
    "# Setting"
   ]
  },
  {
   "cell_type": "code",
   "execution_count": 1,
   "id": "96c67b22-ef48-44d8-bf46-b704efebe43b",
   "metadata": {},
   "source": [
    "# Install packages\n",
    "!pip install optuna\n",
    "!pip install torcheval\n",
    "!pip install ipdb\n",
    "!pip install -U kaleido\n",
    "\n",
    "# Import classes\n",
    "from TrainUtils.OptunaParamFinder import OptunaParamFinder\n",
    "from Types.NetType import NetType\n",
    "from Types.TaskType import TaskType\n",
    "from DataUtils.OpenFaceDataset import OpenFaceDataset\n",
    "from DataUtils.BoaOpenFaceDataset import BoaOpenFaceDataset\n",
    "\n",
    "# Initialize the file system\n",
    "import s3fs\n",
    "s3 = s3fs.S3FileSystem()"
   ],
   "outputs": []
  },
  {
   "cell_type": "markdown",
   "id": "938811af-65cf-4b78-ab97-81ab7bcafec6",
   "metadata": {},
   "source": [
    "# Initialize data"
   ]
  },
  {
   "cell_type": "code",
   "execution_count": 2,
   "id": "5e54c106-8459-4422-a0e3-72175f86abb3",
   "metadata": {},
   "source": [
    "# Define variables\n",
    "working_dir1 = \"s3://bambino-dev-resources/\"\n",
    "task_type1 = TaskType.TRIAL\n",
    "\n",
    "# Load data\n",
    "train_data1 = OpenFaceDataset.load_dataset(working_dir=working_dir1, dataset_name=\"training_set\", task_type=task_type1, is_boa=True, s3=s3)\n",
    "val_data1 = OpenFaceDataset.load_dataset(working_dir=working_dir1, dataset_name=\"validation_set\", task_type=task_type1, is_boa=True, s3=s3)\n",
    "test_data1 = OpenFaceDataset.load_dataset(working_dir=working_dir1, dataset_name=\"test_set\", task_type=task_type1, is_boa=True, s3=s3)"
   ],
   "outputs": []
  },
  {
   "cell_type": "markdown",
   "id": "bf160e7e-0c26-4deb-8604-ca9d3ddaa177",
   "metadata": {},
   "source": [
    "# Optimize parameters"
   ]
  },
  {
   "cell_type": "code",
   "execution_count": null,
   "id": "57e7046b-547a-4e0c-affb-1f975916688f",
   "metadata": {},
   "source": [
    "# Define variables\n",
    "model_name1 = \"stimulus_conv2d_optuna\"\n",
    "net_type1 = NetType.CONV2D\n",
    "epochs1 = 200\n",
    "use_cuda1 = True\n",
    "batch_size1 = None\n",
    "val_epochs1 = 10\n",
    "separated_inputs1 = True\n",
    "is_boa1 = True\n",
    "\n",
    "# Define Optuna model\n",
    "n_trials1 = 5\n",
    "output_metric1 = \"mcc\"\n",
    "double_output1 = False\n",
    "optuna1 = OptunaParamFinder(model_name=model_name1, working_dir=working_dir1, task_type=task_type1,\n",
    "                            net_type=net_type1, epochs=epochs1, batch_size=batch_size1,\n",
    "                            val_epochs=val_epochs1, n_trials=n_trials1, separated_inputs=separated_inputs1,\n",
    "                            output_metric=output_metric1, double_output=double_output1, is_boa=is_boa1, \n",
    "                            use_cuda=use_cuda1, train_data=train_data1, val_data=val_data1, test_data=test_data1, s3=s3)\n",
    "\n",
    "# Run search\n",
    "optuna1.initialize_study()\n",
    "\n",
    "# Evaluate study\n",
    "print()\n",
    "optuna1.analyze_study()"
   ],
   "outputs": []
  }
 ],
 "metadata": {
  "kernelspec": {
   "display_name": "conda_pytorch_p310",
   "language": "python",
   "name": "conda_pytorch_p310"
  },
  "language_info": {
   "codemirror_mode": {
    "name": "ipython",
    "version": 3
   },
   "file_extension": ".py",
   "mimetype": "text/x-python",
   "name": "python",
   "nbconvert_exporter": "python",
   "pygments_lexer": "ipython3",
   "version": "3.10.14"
  }
 },
 "nbformat": 4,
 "nbformat_minor": 5
}
